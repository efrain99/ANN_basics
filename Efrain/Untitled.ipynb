{
 "cells": [
  {
   "cell_type": "code",
   "execution_count": null,
   "metadata": {},
   "outputs": [],
   "source": [
    "import pandas as pd\n",
    "import numpy as np\n",
    "from tqdm.notebook import tqdm\n",
    "import scipy.optimize as optimization\n",
    "import scipy.optimize as least_squares\n",
    "import tensorflow as tf\n",
    "\n",
    "from BHDVCStf import BHDVCS #modified bhdvcs file\n",
    "import utilities as uts #general utilities that are useful for all methods"
   ]
  },
  {
   "cell_type": "code",
   "execution_count": null,
   "metadata": {},
   "outputs": [],
   "source": [
    "bhdvcs = BHDVCS()\n",
    "df = pd.read_csv(\"dvcs_xs_newsets_genCFFs.csv\")\n",
    "data = uts.DvcsData(df)\n",
    "\n",
    "numSets = 15\n",
    "numReplicas = 30"
   ]
  },
  {
   "cell_type": "code",
   "execution_count": null,
   "metadata": {},
   "outputs": [],
   "source": [
    "def produce_results(data, numSets, numReplicas):\n",
    "    results = []\n",
    "    for i in tqdm(range(numSets)):\n",
    "        #replicas =[]\n",
    "        seti = data.getSet(i)\n",
    "        X = np.array(seti.XnoCFF)\n",
    "        sigma = seti.erry\n",
    "        pars = [0,0,0]\n",
    "        replicas =[]\n",
    "        for i in range(numReplicas):\n",
    "            y = np.array(seti.SampleY)\n",
    "            cff, cov = optimization.curve_fit(bhdvcs.TotalUUXS, X, y, pars, sigma, method ='lm')\n",
    "            replicas.append(cff)\n",
    "        results.append(replicas)\n",
    "    return np.array(results)\n",
    "            "
   ]
  },
  {
   "cell_type": "code",
   "execution_count": null,
   "metadata": {},
   "outputs": [],
   "source": [
    "reults = produce_results(data, numSets, numReplicas) "
   ]
  },
  {
   "cell_type": "code",
   "execution_count": null,
   "metadata": {},
   "outputs": [],
   "source": [
    "y_yhat, err = uts.y_yhat_errCFFs(data, results, 0)"
   ]
  }
 ],
 "metadata": {
  "kernelspec": {
   "display_name": "Python 3",
   "language": "python",
   "name": "python3"
  },
  "language_info": {
   "codemirror_mode": {
    "name": "ipython",
    "version": 3
   },
   "file_extension": ".py",
   "mimetype": "text/x-python",
   "name": "python",
   "nbconvert_exporter": "python",
   "pygments_lexer": "ipython3",
   "version": "3.8.5"
  }
 },
 "nbformat": 4,
 "nbformat_minor": 4
}
